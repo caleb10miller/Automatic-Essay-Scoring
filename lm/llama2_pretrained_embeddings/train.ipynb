{
 "cells": [
  {
   "cell_type": "code",
   "execution_count": 1,
   "metadata": {},
   "outputs": [],
   "source": [
    "import pandas as pd\n",
    "import torch\n",
    "import torch.nn as nn\n",
    "from torch.utils.data import Dataset\n",
    "import numpy as np\n",
    "\n",
    "\n",
    "from tokenizers import Tokenizer\n",
    "from tokenizers.models import BPE\n",
    "from tokenizers.trainers import BpeTrainer\n",
    "from tokenizers.pre_tokenizers import Whitespace\n",
    "from tqdm import tqdm\n",
    "\n",
    "import torch\n",
    "from torch.utils.data import DataLoader\n",
    "from torch.optim.lr_scheduler import ReduceLROnPlateau\n",
    "\n",
    "\n",
    "from model import ModelArgs, TransformerForSequenceClassification\n",
    "\n",
    "\n",
    "import os\n",
    "\n",
    "device = \"cuda\" if torch.cuda.is_available() else 'cpu'"
   ]
  },
  {
   "cell_type": "code",
   "execution_count": 2,
   "metadata": {},
   "outputs": [],
   "source": [
    "df = pd.read_csv(\"../data/data_with_scaled_grades.csv\")\n",
    "df = df[[\"essay\", \"scaled_grade\"]]\n",
    "def let_to_num(row):\n",
    "    k = {\"F\": 0, \"D\": 1, \"C\": 2, \"B\": 3, \"A\": 4}\n",
    "    return k[row]\n",
    "\n",
    "\n",
    "df[\"num_grade\"] = df[\"scaled_grade\"].apply(let_to_num)\n",
    "\n",
    "tr = round(len(df) * 0.8)\n",
    "val = round(len(df) * 0.1)\n",
    "\n",
    "df_train = df[0:tr]\n",
    "df_val = df[tr : tr + val].reset_index(drop=True)\n",
    "df_test = df[tr + val :].reset_index(drop=True)"
   ]
  },
  {
   "cell_type": "code",
   "execution_count": 3,
   "metadata": {},
   "outputs": [],
   "source": [
    "def chunk_and_embed(text,tokenizer,model, chunk_size=512):\n",
    "    tokens = tokenizer.tokenize(text)\n",
    "    max_chunk_size = chunk_size - 2 \n",
    "    chunked_tokens = [tokens[i:i + max_chunk_size] for i in range(0, len(tokens), max_chunk_size)]\n",
    "\n",
    " \n",
    "    chunked_input_ids = [tokenizer.convert_tokens_to_ids(['[CLS]'] + chunk + ['[SEP]']) for chunk in chunked_tokens]\n",
    "\n",
    "    ins = [torch.tensor(x) for x in chunked_input_ids]\n",
    "\n",
    "    with torch.no_grad():\n",
    "        out = [model(input_ids = ins[x].unsqueeze(0)).last_hidden_state for x in range(len(ins))]\n",
    "\n",
    "\n",
    "    return torch.cat(out,dim=1).squeeze(0)\n"
   ]
  },
  {
   "cell_type": "code",
   "execution_count": 4,
   "metadata": {},
   "outputs": [],
   "source": [
    "from transformers import BertTokenizer, BertModel\n",
    "\n",
    "tokenizer = BertTokenizer.from_pretrained('bert-base-uncased')\n",
    "embeddings_model = BertModel.from_pretrained('bert-base-uncased')"
   ]
  },
  {
   "cell_type": "code",
   "execution_count": 7,
   "metadata": {},
   "outputs": [],
   "source": [
    "class EssayDataset(Dataset):\n",
    "    def __init__(self, essay_df, tokenizer,model):\n",
    "\n",
    "        self.essays = essay_df[\"essay\"].to_list()\n",
    "        self.scores = essay_df[\"num_grade\"]\n",
    "        self.model = model\n",
    "        self.tokenizer = tokenizer\n",
    "\n",
    "    def __len__(self):\n",
    "        return len(self.essays)\n",
    "\n",
    "    def __getitem__(self, index):\n",
    "        embeddings = chunk_and_embed(self.essays[index],self.tokenizer,self.model)\n",
    "\n",
    "        score = self.scores[index]\n",
    "\n",
    "    \n",
    "\n",
    "        return {\n",
    "            embeddings,\n",
    "            torch.tensor([score], dtype=torch.long),\n",
    "        }\n",
    "\n",
    "    def num_classes(self):\n",
    "        return pd.Series(self.scores).nunique()\n",
    "\n",
    "    def __repr__(self) -> str:\n",
    "        return f\"Dataset with {len(self)} essays\"\n",
    "\n",
    "\n",
    "ds_train = EssayDataset(df_train, tokenizer,embeddings_model)\n",
    "ds_val = EssayDataset(df_val, tokenizer,embeddings_model)"
   ]
  },
  {
   "cell_type": "code",
   "execution_count": 8,
   "metadata": {},
   "outputs": [
    {
     "name": "stdout",
     "output_type": "stream",
     "text": [
      "297,340,421\n"
     ]
    }
   ],
   "source": [
    "config = ModelArgs(\n",
    "    dim=768,\n",
    "    n_layers=42,\n",
    "    n_heads=48,\n",
    "    n_classes=ds_train.num_classes(),\n",
    ")\n",
    "\n",
    "model = TransformerForSequenceClassification(config)\n",
    "print(f\"{model.params():,}\")\n",
    "\n",
    "state_dict = torch.load('weights/model_epoch_5.pt')\n",
    "model.load_state_dict(state_dict)\n",
    "\n",
    "model = model.to(device)\n"
   ]
  },
  {
   "cell_type": "code",
   "execution_count": 9,
   "metadata": {},
   "outputs": [],
   "source": [
    "loss_fn = nn.CrossEntropyLoss()\n",
    "optimizer = torch.optim.Adam(model.parameters(),lr=1e-3)\n",
    "scheduler = ReduceLROnPlateau(optimizer,mode='min',factor=0.1,patience=2)\n",
    "\n",
    "from torch.nn.utils.rnn import pad_sequence\n",
    "import torch\n",
    "\n",
    "\n",
    "def collate_batch(batch):\n",
    "    data, labels = zip(*batch)\n",
    "\n",
    "    padded_data = pad_sequence(\n",
    "        data, batch_first=True, padding_value=0\n",
    "    )  \n",
    "\n",
    "    labels = torch.tensor(labels)\n",
    "\n",
    "    return padded_data, labels\n",
    "\n",
    "train_dataloader = DataLoader(ds_train, batch_size=1, shuffle=True, collate_fn=collate_batch)\n",
    "val_dataloader = DataLoader(ds_val, batch_size=1, shuffle=True, collate_fn=collate_batch)\n"
   ]
  },
  {
   "cell_type": "code",
   "execution_count": 8,
   "metadata": {},
   "outputs": [
    {
     "name": "stderr",
     "output_type": "stream",
     "text": [
      "Processing Epoch 01: 100%|██████████| 10382/10382 [36:03<00:00,  4.80it/s, loss=1.08] \n",
      "Validating Epoch 01: 100%|██████████| 1298/1298 [01:35<00:00, 13.58it/s]\n"
     ]
    },
    {
     "name": "stdout",
     "output_type": "stream",
     "text": [
      "Epoch [2/5], Train Loss: 1.0784, Val Loss: 1.4535, Val Accuracy: 0.4615\n"
     ]
    },
    {
     "name": "stderr",
     "output_type": "stream",
     "text": [
      "Processing Epoch 02: 100%|██████████| 10382/10382 [35:32<00:00,  4.87it/s, loss=0.853]\n",
      "Validating Epoch 02: 100%|██████████| 1298/1298 [01:34<00:00, 13.67it/s]\n"
     ]
    },
    {
     "name": "stdout",
     "output_type": "stream",
     "text": [
      "Epoch [3/5], Train Loss: 0.8526, Val Loss: 1.4994, Val Accuracy: 0.4453\n"
     ]
    },
    {
     "name": "stderr",
     "output_type": "stream",
     "text": [
      "Processing Epoch 03: 100%|██████████| 10382/10382 [35:45<00:00,  4.84it/s, loss=0.806]\n",
      "Validating Epoch 03: 100%|██████████| 1298/1298 [01:35<00:00, 13.61it/s]\n"
     ]
    },
    {
     "name": "stdout",
     "output_type": "stream",
     "text": [
      "Epoch [4/5], Train Loss: 0.8058, Val Loss: 1.4463, Val Accuracy: 0.4407\n"
     ]
    },
    {
     "name": "stderr",
     "output_type": "stream",
     "text": [
      "Processing Epoch 04: 100%|██████████| 10382/10382 [35:50<00:00,  4.83it/s, loss=0.791] \n",
      "Validating Epoch 04: 100%|██████████| 1298/1298 [01:34<00:00, 13.69it/s]\n"
     ]
    },
    {
     "name": "stdout",
     "output_type": "stream",
     "text": [
      "Epoch [5/5], Train Loss: 0.7908, Val Loss: 1.3371, Val Accuracy: 0.4700\n"
     ]
    }
   ],
   "source": [
    "start_epoch = 1\n",
    "end_epoch = 5\n",
    "batch_losses = []\n",
    "val_losses = []\n",
    "val_accuracies = []\n",
    "for epoch in range(start_epoch,end_epoch):\n",
    "    torch.cuda.empty_cache()\n",
    "    model.train()\n",
    "    batch_iterator = tqdm(train_dataloader, desc=f\"Processing Epoch {epoch:02d}\")\n",
    "    running_loss = 0.0\n",
    "    for batch_idx,batch in enumerate(batch_iterator):\n",
    "        tokens,labels = batch[0].to(device),batch[1].to(device)\n",
    "        out = model(tokens)\n",
    "        loss = loss_fn(out, labels)\n",
    "\n",
    "        loss.backward()\n",
    "        optimizer.step()\n",
    "        optimizer.zero_grad()\n",
    "\n",
    "        batch_losses.append(running_loss /( 1 if batch_idx == 0 else batch_idx))\n",
    "\n",
    "        running_loss += loss.item()\n",
    "\n",
    "        batch_iterator.set_postfix(loss=running_loss /( 1 if batch_idx == 0 else batch_idx))\n",
    "    \n",
    "    model.eval()\n",
    "    val_loss = 0.0\n",
    "    val_correct = 0\n",
    "    val_total = 0\n",
    "    with torch.no_grad():\n",
    "        val_iterator = tqdm(val_dataloader,desc=f\"Validating Epoch {epoch:02d}\")\n",
    "        for idx,batch in enumerate(val_iterator):\n",
    "            tokens,labels = batch[0].to(device),batch[1].to(device)\n",
    "            out = model(tokens)\n",
    "            loss = loss_fn(out,labels)\n",
    "\n",
    "            val_loss += loss.item()\n",
    "\n",
    "            preds = torch.argmax(out, dim=1)\n",
    "            val_correct += (preds == labels).sum().item()\n",
    "            val_total += labels.size(0)\n",
    "\n",
    "            preds = torch.argmax(out, dim=1)\n",
    "            val_correct += (preds == labels).sum().item()\n",
    "            val_total += labels.size(0)\n",
    "\n",
    "            val_losses.append(loss.item())\n",
    "            val_accuracies.append(val_correct / val_total)\n",
    "\n",
    "    scheduler.step(val_loss)\n",
    "\n",
    "\n",
    "    val_loss /= len(val_dataloader)\n",
    "    val_accuracy = val_correct / val_total\n",
    "\n",
    "    torch.save(model.state_dict(), os.path.join('weights', f'model_epoch_{epoch+1}.pt'))\n",
    "\n",
    "    print(\n",
    "        f\"Epoch [{epoch+1}/{end_epoch}], Train Loss: {running_loss / len(train_dataloader):.4f}, Val Loss: {val_loss:.4f}, Val Accuracy: {val_accuracy:.4f}\"\n",
    "    )\n"
   ]
  },
  {
   "cell_type": "code",
   "execution_count": 10,
   "metadata": {},
   "outputs": [],
   "source": [
    "ds_test = EssayDataset(df_test, tokenizer,embeddings_model)"
   ]
  },
  {
   "cell_type": "code",
   "execution_count": 11,
   "metadata": {},
   "outputs": [
    {
     "name": "stderr",
     "output_type": "stream",
     "text": [
      "100%|██████████| 1297/1297 [03:55<00:00,  5.52it/s]\n"
     ]
    }
   ],
   "source": [
    "preds = []\n",
    "labels = []\n",
    "for i in tqdm(range(len(ds_test))):\n",
    "    tokens, label = ds_test[i]\n",
    "    out = model(tokens.unsqueeze(0).to(device))\n",
    "    pred = torch.argmax(out)\n",
    "    out = out.to('cpu')\n",
    "    del out\n",
    "\n",
    "    preds.append(pred)\n",
    "    labels.append(label)\n"
   ]
  },
  {
   "cell_type": "code",
   "execution_count": 12,
   "metadata": {},
   "outputs": [],
   "source": [
    "preds = torch.stack(preds).cpu().numpy()\n",
    "labels = torch.stack(labels).squeeze().numpy()\n",
    "\n",
    "from sklearn.metrics import confusion_matrix\n",
    "conf_matrix = confusion_matrix(labels,preds)"
   ]
  },
  {
   "cell_type": "code",
   "execution_count": 18,
   "metadata": {},
   "outputs": [
    {
     "data": {
      "image/png": "[encoded data removed]",
      "text/plain": [
       "<Figure size 640x480 with 2 Axes>"
      ]
     },
     "metadata": {},
     "output_type": "display_data"
    }
   ],
   "source": [
    "import matplotlib.pyplot as plt\n",
    "from sklearn.metrics import ConfusionMatrixDisplay\n",
    "\n",
    "disp = ConfusionMatrixDisplay(confusion_matrix=conf_matrix,\n",
    "                              display_labels=[\"F\", \"D\", \"C\", \"B\", \"A\"])\n",
    "\n",
    "fig, ax = plt.subplots()\n",
    "disp.plot(cmap=plt.cm.Blues, ax=ax)  \n",
    "\n",
    "ax.set_title('Bert Embeddings')\n",
    "\n",
    "ax.set_xlabel('Predicted Labels')\n",
    "ax.set_ylabel('True Labels')\n",
    "\n",
    "plt.show()"
   ]
  },
  {
   "cell_type": "code",
   "execution_count": 14,
   "metadata": {},
   "outputs": [],
   "source": [
    "def quadratic_weighted_kappa(conf_matrix):\n",
    "\n",
    "    w = np.zeros_like(conf_matrix, dtype=float)\n",
    "\n",
    "    num_categories = conf_matrix.shape[0] \n",
    "\n",
    "    for i in range(num_categories):\n",
    "        for j in range(num_categories):\n",
    "            w[i, j] = ((i - j) / (num_categories - 1)) ** 2\n",
    "\n",
    "\n",
    "    total_observations = conf_matrix.sum()\n",
    "\n",
    "    row_totals = conf_matrix.sum(axis=1)\n",
    "\n",
    "    col_totals = conf_matrix.sum(axis=0)\n",
    "\n",
    "    e = np.zeros_like(conf_matrix, dtype=float)\n",
    "\n",
    "    for i in range(conf_matrix.shape[0]):\n",
    "        for j in range(conf_matrix.shape[1]):\n",
    "            e[i, j] = (row_totals[i] * col_totals[j]) / total_observations\n",
    "\n",
    "\n",
    "    num = 0\n",
    "    den = 0\n",
    "    for i in range(num_categories):\n",
    "        for j in range(num_categories):\n",
    "            num += (w[i,j] * conf_matrix[i,j])\n",
    "            den += (w[i,j] * e[i,j])\n",
    "\n",
    "    return 1 - (num/den)"
   ]
  },
  {
   "cell_type": "code",
   "execution_count": 15,
   "metadata": {},
   "outputs": [
    {
     "data": {
      "text/plain": [
       "0.28860610601679115"
      ]
     },
     "execution_count": 15,
     "metadata": {},
     "output_type": "execute_result"
    }
   ],
   "source": [
    "quadratic_weighted_kappa(conf_matrix)"
   ]
  },
  {
   "cell_type": "code",
   "execution_count": 16,
   "metadata": {},
   "outputs": [
    {
     "name": "stderr",
     "output_type": "stream",
     "text": [
      "/home/luke/.local/lib/python3.10/site-packages/sklearn/metrics/_classification.py:1344: UndefinedMetricWarning: Precision and F-score are ill-defined and being set to 0.0 in labels with no predicted samples. Use `zero_division` parameter to control this behavior.\n",
      "  _warn_prf(average, modifier, msg_start, len(result))\n",
      "/home/luke/.local/lib/python3.10/site-packages/sklearn/metrics/_classification.py:1344: UndefinedMetricWarning: Precision and F-score are ill-defined and being set to 0.0 in labels with no predicted samples. Use `zero_division` parameter to control this behavior.\n",
      "  _warn_prf(average, modifier, msg_start, len(result))\n",
      "/home/luke/.local/lib/python3.10/site-packages/sklearn/metrics/_classification.py:1344: UndefinedMetricWarning: Precision and F-score are ill-defined and being set to 0.0 in labels with no predicted samples. Use `zero_division` parameter to control this behavior.\n",
      "  _warn_prf(average, modifier, msg_start, len(result))\n"
     ]
    }
   ],
   "source": [
    "from sklearn.metrics import classification_report\n",
    "report = classification_report(labels, preds, target_names=[\"f\",\"d\",\"c\",'b','a'])\n"
   ]
  },
  {
   "cell_type": "code",
   "execution_count": 17,
   "metadata": {},
   "outputs": [
    {
     "name": "stdout",
     "output_type": "stream",
     "text": [
      "              precision    recall  f1-score   support\n",
      "\n",
      "           f       0.00      0.00      0.00        53\n",
      "           d       0.43      0.20      0.27       387\n",
      "           c       0.41      0.41      0.41       338\n",
      "           b       0.22      0.19      0.20       398\n",
      "           a       0.07      0.26      0.11       121\n",
      "\n",
      "    accuracy                           0.25      1297\n",
      "   macro avg       0.23      0.21      0.20      1297\n",
      "weighted avg       0.31      0.25      0.26      1297\n",
      "\n"
     ]
    }
   ],
   "source": [
    "print(report)"
   ]
  },
  {
   "cell_type": "code",
   "execution_count": null,
   "metadata": {},
   "outputs": [],
   "source": []
  }
 ],
 "metadata": {
  "kernelspec": {
   "display_name": "Python 3",
   "language": "python",
   "name": "python3"
  },
  "language_info": {
   "codemirror_mode": {
    "name": "ipython",
    "version": 3
   },
   "file_extension": ".py",
   "mimetype": "text/x-python",
   "name": "python",
   "nbconvert_exporter": "python",
   "pygments_lexer": "ipython3",
   "version": "3.10.12"
  }
 },
 "nbformat": 4,
 "nbformat_minor": 2
}
