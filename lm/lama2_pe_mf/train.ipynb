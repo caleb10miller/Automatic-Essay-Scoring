{
 "cells": [
  {
   "cell_type": "code",
   "execution_count": 1,
   "metadata": {},
   "outputs": [],
   "source": [
    "import pandas as pd\n",
    "import torch\n",
    "import torch.nn as nn\n",
    "from torch.utils.data import Dataset\n",
    "import numpy as np\n",
    "\n",
    "\n",
    "from tokenizers import Tokenizer\n",
    "from tokenizers.models import BPE\n",
    "from tokenizers.trainers import BpeTrainer\n",
    "from tokenizers.pre_tokenizers import Whitespace\n",
    "from tqdm import tqdm\n",
    "\n",
    "import torch\n",
    "from torch.utils.data import DataLoader\n",
    "from torch.optim.lr_scheduler import ReduceLROnPlateau\n",
    "\n",
    "\n",
    "from model import ModelArgs, TransformerForSequenceClassification\n",
    "\n",
    "\n",
    "import os\n",
    "\n",
    "device = \"cuda\" if torch.cuda.is_available() else 'cpu'"
   ]
  },
  {
   "cell_type": "code",
   "execution_count": 2,
   "metadata": {},
   "outputs": [],
   "source": [
    "df = pd.read_csv(\"../../data/data_with_scaled_grades.csv\")\n",
    "df = df[[\"essay\", \"scaled_grade\"]]\n",
    "def let_to_num(row):\n",
    "    k = {\"F\": 0, \"D\": 1, \"C\": 2, \"B\": 3, \"A\": 4}\n",
    "    return k[row]\n",
    "\n",
    "\n",
    "df[\"num_grade\"] = df[\"scaled_grade\"].apply(let_to_num)\n",
    "\n",
    "\n",
    "dfl1 = pd.read_csv('../../data/lexical_features_5_07.csv')\n",
    "dfl1 = dfl1[['essay_id','num_chars_essay', 'num_puncts_essay', 'num_words_essay',\n",
    "       'num_unique_words_essay', 'num_correct_words', 'num_noun', 'num_adj']]\n",
    "\n",
    "dfl2 = pd.read_csv('../../data/lexical_avg_features_5_12.csv')\n",
    "dfl2 = dfl2[['essay_id','avg_num_chars_word',\n",
    "       'avg_num_chars_sent', 'avg_num_puncts_word', 'avg_num_puncts_sent',\n",
    "       'avg_num_words_sent', 'avg_num_unique_words_essay']]\n",
    "\n",
    "dfl = dfl1.join(dfl2,lsuffix='l').drop(columns=['essay_idl'])\n",
    "\n",
    "\n",
    "dfl = (dfl - dfl.mean()) / dfl.std() # normalize\n",
    "\n",
    "df = pd.concat([df,dfl],axis=1)\n",
    "\n",
    "tr = round(len(df) * 0.8)\n",
    "val = round(len(df) * 0.1)\n",
    "\n",
    "df_train = df[0:tr]\n",
    "df_val = df[tr : tr + val]\n",
    "df_test = df[tr + val :]"
   ]
  },
  {
   "cell_type": "code",
   "execution_count": 3,
   "metadata": {},
   "outputs": [],
   "source": [
    "def chunk_and_embed(text,tokenizer,model, chunk_size=512):\n",
    "    tokens = tokenizer.tokenize(text)\n",
    "    max_chunk_size = chunk_size - 2 \n",
    "    chunked_tokens = [tokens[i:i + max_chunk_size] for i in range(0, len(tokens), max_chunk_size)]\n",
    "\n",
    " \n",
    "    chunked_input_ids = [tokenizer.convert_tokens_to_ids(['[CLS]'] + chunk + ['[SEP]']) for chunk in chunked_tokens]\n",
    "\n",
    "    ins = [torch.tensor(x) for x in chunked_input_ids]\n",
    "\n",
    "    with torch.no_grad():\n",
    "        out = [model(input_ids = ins[x].unsqueeze(0)).last_hidden_state for x in range(len(ins))]\n",
    "\n",
    "\n",
    "    return torch.cat(out,dim=1).squeeze(0)\n"
   ]
  },
  {
   "cell_type": "code",
   "execution_count": 4,
   "metadata": {},
   "outputs": [],
   "source": [
    "from transformers import BertTokenizer, BertModel\n",
    "\n",
    "tokenizer = BertTokenizer.from_pretrained('bert-base-uncased')\n",
    "embeddings_model = BertModel.from_pretrained('bert-base-uncased')"
   ]
  },
  {
   "cell_type": "code",
   "execution_count": 5,
   "metadata": {},
   "outputs": [],
   "source": [
    "class EssayDataset(Dataset):\n",
    "    def __init__(self, essay_df, tokenizer,model):\n",
    "\n",
    "        self.row_dicts = []\n",
    "\n",
    "        for i,row in essay_df.iterrows():      \n",
    "            self.row_dicts.append(row.to_dict())\n",
    "\n",
    "\n",
    "        self.model = model\n",
    "        self.tokenizer = tokenizer\n",
    "\n",
    "    def __len__(self):\n",
    "        return len(self.row_dicts)\n",
    "\n",
    "    def __getitem__(self, index):\n",
    "\n",
    "        row = self.row_dicts[index]\n",
    "\n",
    "        essay = row['essay']\n",
    "\n",
    "        embeddings = chunk_and_embed(essay,self.tokenizer,self.model)\n",
    "        score = row['num_grade']\n",
    "        num_chars = row['num_chars_essay']\n",
    "        num_puncts = row['num_puncts_essay']\n",
    "        num_words = row['num_words_essay']\n",
    "        num_unique_w = row['num_unique_words_essay']\n",
    "        num_correct = row['num_correct_words']\n",
    "        num_noun = row['num_noun']\n",
    "        num_adj = row['num_adj']\n",
    "\n",
    "\n",
    "        context = torch.tensor([num_chars,num_puncts,num_words,num_unique_w,num_correct,num_noun,num_adj],dtype=torch.float)\n",
    "\n",
    "\n",
    "    \n",
    "\n",
    "        return {\n",
    "            'embedding':embeddings,\n",
    "            'context':context,\n",
    "            'label': torch.tensor([score],dtype=torch.long).squeeze(0)\n",
    "            \n",
    "        }\n",
    "\n",
    "    def num_classes(self):\n",
    "        return 5 # bad\n",
    "\n",
    "    def __repr__(self) -> str:\n",
    "        return f\"Dataset with {len(self)} essays\"\n",
    "\n",
    "\n",
    "ds_train = EssayDataset(df_train, tokenizer,embeddings_model)\n",
    "ds_val = EssayDataset(df_val, tokenizer,embeddings_model)"
   ]
  },
  {
   "cell_type": "code",
   "execution_count": 6,
   "metadata": {},
   "outputs": [
    {
     "data": {
      "text/plain": [
       "torch.Size([425, 768])"
      ]
     },
     "execution_count": 6,
     "metadata": {},
     "output_type": "execute_result"
    }
   ],
   "source": [
    "ds_train[0]['embedding'].shape"
   ]
  },
  {
   "cell_type": "code",
   "execution_count": 7,
   "metadata": {},
   "outputs": [
    {
     "name": "stdout",
     "output_type": "stream",
     "text": [
      "297,346,565\n"
     ]
    }
   ],
   "source": [
    "config = ModelArgs(\n",
    "    dim=768,\n",
    "    n_layers=42,\n",
    "    n_heads=48,\n",
    "    n_classes=ds_train.num_classes(),\n",
    ")\n",
    "\n",
    "model = TransformerForSequenceClassification(config)\n",
    "print(f\"{model.params():,}\")\n",
    "\n",
    "state_dict = torch.load('weights/model_epoch_9.pt')\n",
    "model.load_state_dict(state_dict)\n",
    "del state_dict\n",
    "\n",
    "model = model.to(device)\n"
   ]
  },
  {
   "cell_type": "code",
   "execution_count": null,
   "metadata": {},
   "outputs": [],
   "source": []
  },
  {
   "cell_type": "code",
   "execution_count": 8,
   "metadata": {},
   "outputs": [],
   "source": [
    "loss_fn = nn.CrossEntropyLoss()\n",
    "optimizer = torch.optim.Adam(model.parameters(),lr=1e-3)\n",
    "scheduler = ReduceLROnPlateau(optimizer,mode='min',factor=0.1,patience=2)\n",
    "\n",
    "from torch.nn.utils.rnn import pad_sequence\n",
    "import torch\n",
    "\n",
    "\n",
    "def collate_batch(batch):\n",
    "    data, labels = zip(*batch)\n",
    "\n",
    "    padded_data = pad_sequence(\n",
    "        data, batch_first=True, padding_value=0\n",
    "    )  \n",
    "\n",
    "    labels = torch.tensor(labels)\n",
    "\n",
    "    return padded_data, labels\n",
    "\n",
    "train_dataloader = DataLoader(ds_train, batch_size=1, shuffle=True)\n",
    "val_dataloader = DataLoader(ds_val, batch_size=1, shuffle=True)\n"
   ]
  },
  {
   "cell_type": "code",
   "execution_count": 9,
   "metadata": {},
   "outputs": [
    {
     "name": "stderr",
     "output_type": "stream",
     "text": [
      "Processing Epoch 07: 100%|██████████| 10382/10382 [35:34<00:00,  4.86it/s, loss=0.717]\n",
      "Validating Epoch 07: 100%|██████████| 1298/1298 [01:34<00:00, 13.71it/s]\n"
     ]
    },
    {
     "name": "stdout",
     "output_type": "stream",
     "text": [
      "Epoch [8/10], Train Loss: 0.7170, Val Loss: 1.6200, Val Accuracy: 0.4422\n"
     ]
    },
    {
     "name": "stderr",
     "output_type": "stream",
     "text": [
      "Processing Epoch 08: 100%|██████████| 10382/10382 [35:32<00:00,  4.87it/s, loss=0.715] \n",
      "Validating Epoch 08: 100%|██████████| 1298/1298 [01:34<00:00, 13.69it/s]\n"
     ]
    },
    {
     "name": "stdout",
     "output_type": "stream",
     "text": [
      "Epoch [9/10], Train Loss: 0.7148, Val Loss: 1.4506, Val Accuracy: 0.4561\n"
     ]
    },
    {
     "name": "stderr",
     "output_type": "stream",
     "text": [
      "Processing Epoch 09:   0%|          | 1/10382 [00:00<1:30:20,  1.92it/s, loss=0.659]\n"
     ]
    },
    {
     "ename": "KeyboardInterrupt",
     "evalue": "",
     "output_type": "error",
     "traceback": [
      "\u001b[0;31m---------------------------------------------------------------------------\u001b[0m",
      "\u001b[0;31mKeyboardInterrupt\u001b[0m                         Traceback (most recent call last)",
      "Cell \u001b[0;32mIn[9], line 26\u001b[0m\n\u001b[1;32m     22\u001b[0m     optimizer\u001b[38;5;241m.\u001b[39mzero_grad()\n\u001b[1;32m     24\u001b[0m     batch_losses\u001b[38;5;241m.\u001b[39mappend(running_loss \u001b[38;5;241m/\u001b[39m( \u001b[38;5;241m1\u001b[39m \u001b[38;5;28;01mif\u001b[39;00m batch_idx \u001b[38;5;241m==\u001b[39m \u001b[38;5;241m0\u001b[39m \u001b[38;5;28;01melse\u001b[39;00m batch_idx))\n\u001b[0;32m---> 26\u001b[0m     running_loss \u001b[38;5;241m+\u001b[39m\u001b[38;5;241m=\u001b[39m \u001b[43mloss\u001b[49m\u001b[38;5;241;43m.\u001b[39;49m\u001b[43mitem\u001b[49m\u001b[43m(\u001b[49m\u001b[43m)\u001b[49m\n\u001b[1;32m     28\u001b[0m     batch_iterator\u001b[38;5;241m.\u001b[39mset_postfix(loss\u001b[38;5;241m=\u001b[39mrunning_loss \u001b[38;5;241m/\u001b[39m( \u001b[38;5;241m1\u001b[39m \u001b[38;5;28;01mif\u001b[39;00m batch_idx \u001b[38;5;241m==\u001b[39m \u001b[38;5;241m0\u001b[39m \u001b[38;5;28;01melse\u001b[39;00m batch_idx))\n\u001b[1;32m     30\u001b[0m model\u001b[38;5;241m.\u001b[39meval()\n",
      "\u001b[0;31mKeyboardInterrupt\u001b[0m: "
     ]
    }
   ],
   "source": [
    "start_epoch = 7\n",
    "end_epoch = 10\n",
    "batch_losses = []\n",
    "val_losses = []\n",
    "val_accuracies = []\n",
    "for epoch in range(start_epoch,end_epoch):\n",
    "    torch.cuda.empty_cache()\n",
    "    model.train()\n",
    "    batch_iterator = tqdm(train_dataloader, desc=f\"Processing Epoch {epoch:02d}\")\n",
    "    running_loss = 0.0\n",
    "    for batch_idx,batch in enumerate(batch_iterator):\n",
    "\n",
    "        embeddings = batch['embedding'].to(device)\n",
    "        context = batch['context'].to(device)\n",
    "        labels = batch['label'].to(device)\n",
    "\n",
    "        out = model(embeddings,context)\n",
    "        loss = loss_fn(out, labels)\n",
    "\n",
    "        loss.backward()\n",
    "        optimizer.step()\n",
    "        optimizer.zero_grad()\n",
    "\n",
    "        batch_losses.append(running_loss /( 1 if batch_idx == 0 else batch_idx))\n",
    "\n",
    "        running_loss += loss.item()\n",
    "\n",
    "        batch_iterator.set_postfix(loss=running_loss /( 1 if batch_idx == 0 else batch_idx))\n",
    "    \n",
    "    model.eval()\n",
    "    val_loss = 0.0\n",
    "    val_correct = 0\n",
    "    val_total = 0\n",
    "    with torch.no_grad():\n",
    "        val_iterator = tqdm(val_dataloader,desc=f\"Validating Epoch {epoch:02d}\")\n",
    "        for idx,batch in enumerate(val_iterator):\n",
    "\n",
    "            embeddings = batch['embedding'].to(device)\n",
    "            context = batch['context'].to(device)\n",
    "            labels = batch['label'].to(device)\n",
    "            \n",
    "            out = model(embeddings,context)\n",
    "            loss = loss_fn(out,labels)\n",
    "\n",
    "            val_loss += loss.item()\n",
    "\n",
    "            preds = torch.argmax(out, dim=1)\n",
    "            val_correct += (preds == labels).sum().item()\n",
    "            val_total += labels.size(0)\n",
    "\n",
    "            preds = torch.argmax(out, dim=1)\n",
    "            val_correct += (preds == labels).sum().item()\n",
    "            val_total += labels.size(0)\n",
    "\n",
    "            val_losses.append(loss.item())\n",
    "            val_accuracies.append(val_correct / val_total)\n",
    "\n",
    "    scheduler.step(val_loss)\n",
    "\n",
    "\n",
    "    val_loss /= len(val_dataloader)\n",
    "    val_accuracy = val_correct / val_total\n",
    "\n",
    "    torch.save(model.state_dict(), os.path.join('weights', f'model_epoch_{epoch+1}.pt'))\n",
    "\n",
    "    print(\n",
    "        f\"Epoch [{epoch+1}/{end_epoch}], Train Loss: {running_loss / len(train_dataloader):.4f}, Val Loss: {val_loss:.4f}, Val Accuracy: {val_accuracy:.4f}\"\n",
    "    )\n"
   ]
  },
  {
   "cell_type": "code",
   "execution_count": 24,
   "metadata": {},
   "outputs": [],
   "source": [
    "ds_test = EssayDataset(df_test[500:1000], tokenizer,embeddings_model)\n",
    "test_dataloader = DataLoader(ds_test, batch_size=1, shuffle=True)\n"
   ]
  },
  {
   "cell_type": "code",
   "execution_count": 25,
   "metadata": {},
   "outputs": [
    {
     "name": "stderr",
     "output_type": "stream",
     "text": [
      "100%|██████████| 500/500 [04:28<00:00,  1.86it/s]\n"
     ]
    }
   ],
   "source": [
    "preds = []\n",
    "labels = []\n",
    "for i in tqdm(range(len(test_dataloader))):\n",
    "    embeddings = ds_test[i]['embedding'].unsqueeze(0).to(device)\n",
    "    context = ds_test[i]['context'].unsqueeze(0).to(device)\n",
    "    label = ds_test[i]['label'].unsqueeze(0).to(device)\n",
    "\n",
    "    \n",
    "    out = model(embeddings,context)\n",
    "    pred = torch.argmax(out)\n",
    "    out = out.to('cpu')\n",
    "    del out\n",
    "\n",
    "    preds.append(pred)\n",
    "    labels.append(label)\n"
   ]
  },
  {
   "cell_type": "code",
   "execution_count": 34,
   "metadata": {},
   "outputs": [
    {
     "ename": "TypeError",
     "evalue": "stack(): argument 'tensors' (position 1) must be tuple of Tensors, not numpy.ndarray",
     "output_type": "error",
     "traceback": [
      "\u001b[0;31m---------------------------------------------------------------------------\u001b[0m",
      "\u001b[0;31mTypeError\u001b[0m                                 Traceback (most recent call last)",
      "Cell \u001b[0;32mIn[34], line 1\u001b[0m\n\u001b[0;32m----> 1\u001b[0m preds \u001b[38;5;241m=\u001b[39m \u001b[43mtorch\u001b[49m\u001b[38;5;241;43m.\u001b[39;49m\u001b[43mstack\u001b[49m\u001b[43m(\u001b[49m\u001b[43mpreds\u001b[49m\u001b[43m)\u001b[49m\u001b[38;5;241m.\u001b[39mcpu()\u001b[38;5;241m.\u001b[39mnumpy()\n\u001b[1;32m      2\u001b[0m labels \u001b[38;5;241m=\u001b[39m torch\u001b[38;5;241m.\u001b[39mstack(labels)\u001b[38;5;241m.\u001b[39msqueeze()\u001b[38;5;241m.\u001b[39mcpu()\u001b[38;5;241m.\u001b[39mnumpy()\n",
      "\u001b[0;31mTypeError\u001b[0m: stack(): argument 'tensors' (position 1) must be tuple of Tensors, not numpy.ndarray"
     ]
    }
   ],
   "source": [
    "preds = torch.stack(preds).cpu().numpy()\n",
    "labels = torch.stack(labels).squeeze().cpu().numpy()\n",
    "\n"
   ]
  },
  {
   "cell_type": "code",
   "execution_count": 39,
   "metadata": {},
   "outputs": [],
   "source": [
    "from sklearn.metrics import confusion_matrix\n",
    "conf_matrix = confusion_matrix(labels,preds)"
   ]
  },
  {
   "cell_type": "code",
   "execution_count": 40,
   "metadata": {},
   "outputs": [
    {
     "data": {
      "text/plain": [
       "array([[  1,   7,   3,   1,   1],\n",
       "       [  2,  16,  21,  65,  70],\n",
       "       [  0,  11,  12,  15,  63],\n",
       "       [  0,   7,  10,  11, 165],\n",
       "       [  0,   0,   3,   6,  10]])"
      ]
     },
     "execution_count": 40,
     "metadata": {},
     "output_type": "execute_result"
    }
   ],
   "source": [
    "conf_matrix"
   ]
  },
  {
   "cell_type": "code",
   "execution_count": 41,
   "metadata": {},
   "outputs": [
    {
     "data": {
      "image/png": "[encoded data removed]",
      "text/plain": [
       "<Figure size 640x480 with 2 Axes>"
      ]
     },
     "metadata": {},
     "output_type": "display_data"
    }
   ],
   "source": [
    "import matplotlib.pyplot as plt\n",
    "from sklearn.metrics import ConfusionMatrixDisplay\n",
    "\n",
    "disp = ConfusionMatrixDisplay(confusion_matrix=conf_matrix,\n",
    "                              display_labels=[\"F\", \"D\", \"C\", \"B\", \"A\"])\n",
    "\n",
    "fig, ax = plt.subplots()\n",
    "disp.plot(cmap=plt.cm.Blues, ax=ax)  \n",
    "\n",
    "ax.set_title('Bert Embeddings + Handcrafted Features ')\n",
    "\n",
    "ax.set_xlabel('Predicted Labels')\n",
    "ax.set_ylabel('True Labels')\n",
    "\n",
    "plt.show()"
   ]
  },
  {
   "cell_type": "code",
   "execution_count": 42,
   "metadata": {},
   "outputs": [],
   "source": [
    "def quadratic_weighted_kappa(conf_matrix):\n",
    "\n",
    "    w = np.zeros_like(conf_matrix, dtype=float)\n",
    "\n",
    "    num_categories = conf_matrix.shape[0] \n",
    "\n",
    "    for i in range(num_categories):\n",
    "        for j in range(num_categories):\n",
    "            w[i, j] = ((i - j) / (num_categories - 1)) ** 2\n",
    "\n",
    "\n",
    "    total_observations = conf_matrix.sum()\n",
    "\n",
    "    row_totals = conf_matrix.sum(axis=1)\n",
    "\n",
    "    col_totals = conf_matrix.sum(axis=0)\n",
    "\n",
    "    e = np.zeros_like(conf_matrix, dtype=float)\n",
    "\n",
    "    for i in range(conf_matrix.shape[0]):\n",
    "        for j in range(conf_matrix.shape[1]):\n",
    "            e[i, j] = (row_totals[i] * col_totals[j]) / total_observations\n",
    "\n",
    "\n",
    "    num = 0\n",
    "    den = 0\n",
    "    for i in range(num_categories):\n",
    "        for j in range(num_categories):\n",
    "            num += (w[i,j] * conf_matrix[i,j])\n",
    "            den += (w[i,j] * e[i,j])\n",
    "\n",
    "    return 1 - (num/den)"
   ]
  },
  {
   "cell_type": "code",
   "execution_count": 43,
   "metadata": {},
   "outputs": [
    {
     "data": {
      "text/plain": [
       "0.19068127294274084"
      ]
     },
     "execution_count": 43,
     "metadata": {},
     "output_type": "execute_result"
    }
   ],
   "source": [
    "quadratic_weighted_kappa(conf_matrix)"
   ]
  },
  {
   "cell_type": "code",
   "execution_count": 18,
   "metadata": {},
   "outputs": [],
   "source": [
    "from sklearn.metrics import classification_report\n",
    "report = classification_report(labels, preds, target_names=[\"f\",\"d\",\"c\",'b','a'])\n"
   ]
  },
  {
   "cell_type": "code",
   "execution_count": 19,
   "metadata": {},
   "outputs": [
    {
     "name": "stdout",
     "output_type": "stream",
     "text": [
      "              precision    recall  f1-score   support\n",
      "\n",
      "           f       0.78      0.19      0.31        36\n",
      "           d       0.37      0.70      0.49       123\n",
      "           c       0.45      0.53      0.49       206\n",
      "           b       0.21      0.14      0.17       111\n",
      "           a       0.78      0.14      0.23       103\n",
      "\n",
      "    accuracy                           0.40       579\n",
      "   macro avg       0.52      0.34      0.34       579\n",
      "weighted avg       0.47      0.40      0.37       579\n",
      "\n"
     ]
    }
   ],
   "source": [
    "print(report)"
   ]
  },
  {
   "cell_type": "code",
   "execution_count": null,
   "metadata": {},
   "outputs": [],
   "source": []
  },
  {
   "cell_type": "code",
   "execution_count": null,
   "metadata": {},
   "outputs": [],
   "source": []
  }
 ],
 "metadata": {
  "kernelspec": {
   "display_name": "Python 3",
   "language": "python",
   "name": "python3"
  },
  "language_info": {
   "codemirror_mode": {
    "name": "ipython",
    "version": 3
   },
   "file_extension": ".py",
   "mimetype": "text/x-python",
   "name": "python",
   "nbconvert_exporter": "python",
   "pygments_lexer": "ipython3",
   "version": "3.10.12"
  }
 },
 "nbformat": 4,
 "nbformat_minor": 2
}
