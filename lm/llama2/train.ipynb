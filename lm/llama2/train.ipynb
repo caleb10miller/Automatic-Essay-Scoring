{
 "cells": [
  {
   "cell_type": "code",
   "execution_count": 1,
   "metadata": {},
   "outputs": [],
   "source": [
    "import pandas as pd\n",
    "import torch\n",
    "import torch.nn as nn\n",
    "from torch.utils.data import Dataset\n",
    "import numpy as np\n",
    "\n",
    "\n",
    "from tokenizers import Tokenizer\n",
    "from tokenizers.models import BPE\n",
    "from tokenizers.trainers import BpeTrainer\n",
    "from tokenizers.pre_tokenizers import Whitespace\n",
    "from tqdm import tqdm\n",
    "\n",
    "import torch\n",
    "from torch.utils.data import DataLoader\n",
    "from torch.optim.lr_scheduler import ReduceLROnPlateau\n",
    "\n",
    "\n",
    "from model import ModelArgs, TransformerForSequenceClassification\n",
    "\n",
    "import os\n",
    "\n",
    "device = \"cuda\" if torch.cuda.is_available() else 'cpu'"
   ]
  },
  {
   "cell_type": "code",
   "execution_count": 2,
   "metadata": {},
   "outputs": [],
   "source": [
    "df = pd.read_csv(\"../data/data_with_scaled_grades.csv\")\n",
    "df = df[[\"essay\", \"scaled_grade\"]]\n",
    "def let_to_num(row):\n",
    "    k = {\"F\": 0, \"D\": 1, \"C\": 2, \"B\": 3, \"A\": 4}\n",
    "    return k[row]\n",
    "\n",
    "\n",
    "df[\"num_grade\"] = df[\"scaled_grade\"].apply(let_to_num)\n",
    "\n",
    "tr = round(len(df) * 0.8)\n",
    "val = round(len(df) * 0.1)\n",
    "\n",
    "df_train = df[0:tr]\n",
    "df_val = df[tr : tr + val]\n",
    "df_test = df[tr + val :]"
   ]
  },
  {
   "cell_type": "code",
   "execution_count": 3,
   "metadata": {},
   "outputs": [],
   "source": [
    "if not os.path.exists('tokenizer.json'):\n",
    "    x = df[\"essay\"]\n",
    "\n",
    "    trainer = BpeTrainer(special_tokens=[\"[UNK]\", \"[CLS]\", \"[SEP]\", \"[PAD]\", \"[MASK]\"],vocab_size=30000)\n",
    "\n",
    "    tokenizer = Tokenizer(BPE(unk_token=\"[UNK]\"))\n",
    "\n",
    "    tokenizer.pre_tokenizer = Whitespace()\n",
    "\n",
    "    tokenizer.train_from_iterator(x, trainer=trainer)\n",
    "\n",
    "\n",
    "    tokenizer.save(\"tokenizer.json\")\n",
    "else:\n",
    "    tokenizer = Tokenizer.from_file('tokenizer.json')\n",
    "    "
   ]
  },
  {
   "cell_type": "code",
   "execution_count": 4,
   "metadata": {},
   "outputs": [],
   "source": [
    "class EssayDataset(Dataset):\n",
    "    def __init__(self, essay_df, tokenizer, max_len):\n",
    "\n",
    "        self.essays = []\n",
    "        self.scores = []\n",
    "\n",
    "        for essay, score in zip(essay_df[\"essay\"], essay_df[\"num_grade\"]):\n",
    "            encoded = tokenizer.encode(essay)\n",
    "            if len(encoded.ids) <= max_len:\n",
    "                self.essays.append(essay)\n",
    "                self.scores.append(score)\n",
    "\n",
    "        self.tokenizer = tokenizer\n",
    "\n",
    "    def __len__(self):\n",
    "        return len(self.essays)\n",
    "\n",
    "    def __getitem__(self, index):\n",
    "        essay = self.essays[index]\n",
    "        encoded = self.tokenizer.encode(essay)\n",
    "        score = self.scores[index]\n",
    "\n",
    "        input_ids = torch.tensor(encoded.ids, dtype=torch.long) \n",
    "\n",
    "        return {\n",
    "            input_ids,\n",
    "            torch.tensor([score], dtype=torch.long),\n",
    "        }\n",
    "\n",
    "    def num_classes(self):\n",
    "        return pd.Series(self.scores).nunique()\n",
    "\n",
    "    def __repr__(self) -> str:\n",
    "        return f\"Dataset with {len(self)} essays\"\n",
    "\n",
    "\n",
    "ds_train = EssayDataset(df_train, tokenizer, 1024)\n",
    "ds_val = EssayDataset(df_val, tokenizer, 1024)"
   ]
  },
  {
   "cell_type": "code",
   "execution_count": 5,
   "metadata": {},
   "outputs": [
    {
     "name": "stdout",
     "output_type": "stream",
     "text": [
      "306,221,573\n"
     ]
    }
   ],
   "source": [
    "\n",
    "config = ModelArgs(\n",
    "   dim=768,\n",
    "   n_layers=40,\n",
    "   n_heads=32,\n",
    "   vocab_size=tokenizer.get_vocab_size(),\n",
    "    n_classes=ds_train.num_classes(),\n",
    ")\n",
    "\n",
    "model = TransformerForSequenceClassification(config)\n",
    "print(f\"{model.params():,}\")\n",
    "\n",
    "state_dict = torch.load('weights/model_epoch_20.pt')\n",
    "model.load_state_dict(state_dict)\n",
    "\n",
    "model = model.to(device)\n"
   ]
  },
  {
   "cell_type": "code",
   "execution_count": 6,
   "metadata": {},
   "outputs": [],
   "source": [
    "loss_fn = nn.CrossEntropyLoss()\n",
    "optimizer = torch.optim.Adam(model.parameters())\n",
    "scheduler = ReduceLROnPlateau(optimizer,mode='min',factor=0.1,patience=2)\n",
    "\n",
    "from torch.nn.utils.rnn import pad_sequence\n",
    "import torch\n",
    "\n",
    "\n",
    "def collate_batch(batch):\n",
    "    data, labels = zip(*batch)\n",
    "\n",
    "    padded_data = pad_sequence(\n",
    "        data, batch_first=True, padding_value=0\n",
    "    )  \n",
    "\n",
    "    labels = torch.tensor(labels)\n",
    "\n",
    "    return padded_data, labels\n",
    "\n",
    "train_dataloader = DataLoader(ds_train, batch_size=1, shuffle=True, drop_last=True, collate_fn=collate_batch)\n",
    "val_dataloader = DataLoader(ds_val, batch_size=1, shuffle=True, drop_last=True, collate_fn=collate_batch)\n"
   ]
  },
  {
   "cell_type": "code",
   "execution_count": 8,
   "metadata": {},
   "outputs": [
    {
     "name": "stderr",
     "output_type": "stream",
     "text": [
      "Processing Epoch 04: 100%|██████████| 10372/10372 [23:45<00:00,  7.28it/s, loss=1.06]\n",
      "Validating Epoch 04: 100%|██████████| 1298/1298 [00:27<00:00, 46.96it/s]\n"
     ]
    },
    {
     "name": "stdout",
     "output_type": "stream",
     "text": [
      "Epoch [5/20], Train Loss: 1.0582, Val Loss: 1.4480, Val Accuracy: 0.3760\n"
     ]
    },
    {
     "name": "stderr",
     "output_type": "stream",
     "text": [
      "Processing Epoch 05: 100%|██████████| 10372/10372 [22:32<00:00,  7.67it/s, loss=1.04]\n",
      "Validating Epoch 05: 100%|██████████| 1298/1298 [00:27<00:00, 46.92it/s]\n"
     ]
    },
    {
     "name": "stdout",
     "output_type": "stream",
     "text": [
      "Epoch [6/20], Train Loss: 1.0353, Val Loss: 1.4605, Val Accuracy: 0.4461\n"
     ]
    },
    {
     "name": "stderr",
     "output_type": "stream",
     "text": [
      "Processing Epoch 06: 100%|██████████| 10372/10372 [22:31<00:00,  7.67it/s, loss=0.994]\n",
      "Validating Epoch 06: 100%|██████████| 1298/1298 [00:27<00:00, 46.95it/s]\n"
     ]
    },
    {
     "name": "stdout",
     "output_type": "stream",
     "text": [
      "Epoch [7/20], Train Loss: 0.9937, Val Loss: 1.3494, Val Accuracy: 0.4638\n"
     ]
    },
    {
     "name": "stderr",
     "output_type": "stream",
     "text": [
      "Processing Epoch 07: 100%|██████████| 10372/10372 [22:31<00:00,  7.67it/s, loss=0.907]\n",
      "Validating Epoch 07: 100%|██████████| 1298/1298 [00:27<00:00, 46.92it/s]\n"
     ]
    },
    {
     "name": "stdout",
     "output_type": "stream",
     "text": [
      "Epoch [8/20], Train Loss: 0.9068, Val Loss: 1.3711, Val Accuracy: 0.4615\n"
     ]
    },
    {
     "name": "stderr",
     "output_type": "stream",
     "text": [
      "Processing Epoch 08: 100%|██████████| 10372/10372 [22:31<00:00,  7.67it/s, loss=0.877]\n",
      "Validating Epoch 08: 100%|██████████| 1298/1298 [00:27<00:00, 46.94it/s]\n"
     ]
    },
    {
     "name": "stdout",
     "output_type": "stream",
     "text": [
      "Epoch [9/20], Train Loss: 0.8768, Val Loss: 1.4069, Val Accuracy: 0.4684\n"
     ]
    },
    {
     "name": "stderr",
     "output_type": "stream",
     "text": [
      "Processing Epoch 09: 100%|██████████| 10372/10372 [22:31<00:00,  7.68it/s, loss=0.851]\n",
      "Validating Epoch 09: 100%|██████████| 1298/1298 [00:27<00:00, 46.93it/s]\n"
     ]
    },
    {
     "name": "stdout",
     "output_type": "stream",
     "text": [
      "Epoch [10/20], Train Loss: 0.8507, Val Loss: 1.4249, Val Accuracy: 0.4676\n"
     ]
    },
    {
     "name": "stderr",
     "output_type": "stream",
     "text": [
      "Processing Epoch 10: 100%|██████████| 10372/10372 [22:31<00:00,  7.68it/s, loss=0.824]\n",
      "Validating Epoch 10: 100%|██████████| 1298/1298 [00:27<00:00, 46.92it/s]\n"
     ]
    },
    {
     "name": "stdout",
     "output_type": "stream",
     "text": [
      "Epoch [11/20], Train Loss: 0.8235, Val Loss: 1.4091, Val Accuracy: 0.4630\n"
     ]
    },
    {
     "name": "stderr",
     "output_type": "stream",
     "text": [
      "Processing Epoch 11: 100%|██████████| 10372/10372 [23:16<00:00,  7.43it/s, loss=0.812]\n",
      "Validating Epoch 11: 100%|██████████| 1298/1298 [00:30<00:00, 41.99it/s]\n"
     ]
    },
    {
     "name": "stdout",
     "output_type": "stream",
     "text": [
      "Epoch [12/20], Train Loss: 0.8119, Val Loss: 1.4116, Val Accuracy: 0.4661\n"
     ]
    },
    {
     "name": "stderr",
     "output_type": "stream",
     "text": [
      "Processing Epoch 12: 100%|██████████| 10372/10372 [22:57<00:00,  7.53it/s, loss=0.803]\n",
      "Validating Epoch 12: 100%|██████████| 1298/1298 [00:27<00:00, 46.93it/s]\n"
     ]
    },
    {
     "name": "stdout",
     "output_type": "stream",
     "text": [
      "Epoch [13/20], Train Loss: 0.8025, Val Loss: 1.4145, Val Accuracy: 0.4684\n"
     ]
    },
    {
     "name": "stderr",
     "output_type": "stream",
     "text": [
      "Processing Epoch 13: 100%|██████████| 10372/10372 [23:47<00:00,  7.27it/s, loss=0.794]\n",
      "Validating Epoch 13: 100%|██████████| 1298/1298 [00:27<00:00, 46.94it/s]\n"
     ]
    },
    {
     "name": "stdout",
     "output_type": "stream",
     "text": [
      "Epoch [14/20], Train Loss: 0.7934, Val Loss: 1.4140, Val Accuracy: 0.4638\n"
     ]
    },
    {
     "name": "stderr",
     "output_type": "stream",
     "text": [
      "Processing Epoch 14: 100%|██████████| 10372/10372 [22:31<00:00,  7.68it/s, loss=0.791]\n",
      "Validating Epoch 14: 100%|██████████| 1298/1298 [00:27<00:00, 46.93it/s]\n"
     ]
    },
    {
     "name": "stdout",
     "output_type": "stream",
     "text": [
      "Epoch [15/20], Train Loss: 0.7911, Val Loss: 1.4142, Val Accuracy: 0.4638\n"
     ]
    },
    {
     "name": "stderr",
     "output_type": "stream",
     "text": [
      "Processing Epoch 15: 100%|██████████| 10372/10372 [22:31<00:00,  7.68it/s, loss=0.789]\n",
      "Validating Epoch 15: 100%|██████████| 1298/1298 [00:27<00:00, 46.94it/s]\n"
     ]
    },
    {
     "name": "stdout",
     "output_type": "stream",
     "text": [
      "Epoch [16/20], Train Loss: 0.7893, Val Loss: 1.4152, Val Accuracy: 0.4630\n"
     ]
    },
    {
     "name": "stderr",
     "output_type": "stream",
     "text": [
      "Processing Epoch 16: 100%|██████████| 10372/10372 [22:31<00:00,  7.68it/s, loss=0.788]\n",
      "Validating Epoch 16: 100%|██████████| 1298/1298 [00:27<00:00, 46.96it/s]\n"
     ]
    },
    {
     "name": "stdout",
     "output_type": "stream",
     "text": [
      "Epoch [17/20], Train Loss: 0.7876, Val Loss: 1.4155, Val Accuracy: 0.4630\n"
     ]
    },
    {
     "name": "stderr",
     "output_type": "stream",
     "text": [
      "Processing Epoch 17: 100%|██████████| 10372/10372 [23:45<00:00,  7.27it/s, loss=0.787]\n",
      "Validating Epoch 17: 100%|██████████| 1298/1298 [00:27<00:00, 46.94it/s]\n"
     ]
    },
    {
     "name": "stdout",
     "output_type": "stream",
     "text": [
      "Epoch [18/20], Train Loss: 0.7873, Val Loss: 1.4157, Val Accuracy: 0.4630\n"
     ]
    },
    {
     "name": "stderr",
     "output_type": "stream",
     "text": [
      "Processing Epoch 18: 100%|██████████| 10372/10372 [22:33<00:00,  7.66it/s, loss=0.787]\n",
      "Validating Epoch 18: 100%|██████████| 1298/1298 [00:27<00:00, 46.85it/s]\n"
     ]
    },
    {
     "name": "stdout",
     "output_type": "stream",
     "text": [
      "Epoch [19/20], Train Loss: 0.7871, Val Loss: 1.4160, Val Accuracy: 0.4630\n"
     ]
    },
    {
     "name": "stderr",
     "output_type": "stream",
     "text": [
      "Processing Epoch 19: 100%|██████████| 10372/10372 [22:32<00:00,  7.67it/s, loss=0.787]\n",
      "Validating Epoch 19: 100%|██████████| 1298/1298 [00:27<00:00, 46.88it/s]\n"
     ]
    },
    {
     "name": "stdout",
     "output_type": "stream",
     "text": [
      "Epoch [20/20], Train Loss: 0.7868, Val Loss: 1.4159, Val Accuracy: 0.4630\n"
     ]
    }
   ],
   "source": [
    "start_epoch = 1\n",
    "end_epoch = 20\n",
    "batch_losses = []\n",
    "val_losses = []\n",
    "val_accuracies = []\n",
    "for epoch in range(start_epoch,end_epoch):\n",
    "    torch.cuda.empty_cache()\n",
    "    model.train()\n",
    "    batch_iterator = tqdm(train_dataloader, desc=f\"Processing Epoch {epoch:02d}\")\n",
    "    running_loss = 0.0\n",
    "    for batch_idx,batch in enumerate(batch_iterator):\n",
    "        tokens,labels = batch[0].to(device),batch[1].to(device)\n",
    "        out = model(tokens)\n",
    "        loss = loss_fn(out, labels)\n",
    "\n",
    "        loss.backward()\n",
    "        optimizer.step()\n",
    "        optimizer.zero_grad()\n",
    "\n",
    "        batch_losses.append(running_loss /( 1 if batch_idx == 0 else batch_idx))\n",
    "\n",
    "        running_loss += loss.item()\n",
    "\n",
    "        batch_iterator.set_postfix(loss=running_loss /( 1 if batch_idx == 0 else batch_idx))\n",
    "    \n",
    "    model.eval()\n",
    "    val_loss = 0.0\n",
    "    val_correct = 0\n",
    "    val_total = 0\n",
    "    with torch.no_grad():\n",
    "        val_iterator = tqdm(val_dataloader,desc=f\"Validating Epoch {epoch:02d}\")\n",
    "        for idx,batch in enumerate(val_iterator):\n",
    "            tokens,labels = batch[0].to(device),batch[1].to(device)\n",
    "            out = model(tokens)\n",
    "            loss = loss_fn(out,labels)\n",
    "\n",
    "            val_loss += loss.item()\n",
    "\n",
    "            preds = torch.argmax(out, dim=1)\n",
    "            val_correct += (preds == labels).sum().item()\n",
    "            val_total += labels.size(0)\n",
    "\n",
    "            preds = torch.argmax(out, dim=1)\n",
    "            val_correct += (preds == labels).sum().item()\n",
    "            val_total += labels.size(0)\n",
    "\n",
    "            val_losses.append(loss.item())\n",
    "            val_accuracies.append(val_correct / val_total)\n",
    "\n",
    "    scheduler.step(val_loss)\n",
    "\n",
    "\n",
    "    val_loss /= len(val_dataloader)\n",
    "    val_accuracy = val_correct / val_total\n",
    "\n",
    "    torch.save(model.state_dict(), os.path.join('weights', f'model_epoch_{epoch+1}.pt'))\n",
    "\n",
    "    print(\n",
    "        f\"Epoch [{epoch+1}/{end_epoch}], Train Loss: {running_loss / len(train_dataloader):.4f}, Val Loss: {val_loss:.4f}, Val Accuracy: {val_accuracy:.4f}\"\n",
    "    )\n"
   ]
  },
  {
   "cell_type": "code",
   "execution_count": 7,
   "metadata": {},
   "outputs": [],
   "source": [
    "ds_test = EssayDataset(df_test, tokenizer, 1024)"
   ]
  },
  {
   "cell_type": "code",
   "execution_count": null,
   "metadata": {},
   "outputs": [],
   "source": [
    "preds = []\n",
    "labels = []\n",
    "for i in tqdm(range(len(ds_test))):\n",
    "    tokens, label = ds_test[i]\n",
    "    out = model(tokens.unsqueeze(0).to(device))\n",
    "    pred = torch.argmax(out)\n",
    "    out = out.to('cpu')\n",
    "    del out\n",
    "\n",
    "    preds.append(pred)\n",
    "    labels.append(label)\n"
   ]
  },
  {
   "cell_type": "code",
   "execution_count": 9,
   "metadata": {},
   "outputs": [],
   "source": [
    "preds = torch.stack(preds).cpu().numpy()\n",
    "labels = torch.stack(labels).squeeze().numpy()"
   ]
  },
  {
   "cell_type": "code",
   "execution_count": null,
   "metadata": {},
   "outputs": [],
   "source": [
    "from sklearn.metrics import confusion_matrix\n",
    "conf_matrix = confusion_matrix(labels,preds)"
   ]
  },
  {
   "cell_type": "code",
   "execution_count": 23,
   "metadata": {},
   "outputs": [
    {
     "name": "stdout",
     "output_type": "stream",
     "text": [
      "              precision    recall  f1-score   support\n",
      "\n",
      "           f       0.50      0.02      0.04        53\n",
      "           d       0.43      0.12      0.18       383\n",
      "           c       0.43      0.44      0.43       334\n",
      "           b       0.26      0.33      0.29       370\n",
      "           a       0.06      0.19      0.09       117\n",
      "\n",
      "    accuracy                           0.27      1257\n",
      "   macro avg       0.34      0.22      0.21      1257\n",
      "weighted avg       0.35      0.27      0.27      1257\n",
      "\n"
     ]
    }
   ],
   "source": [
    "from sklearn.metrics import classification_report\n",
    "report = classification_report(labels, preds, target_names=[\"f\",\"d\",\"c\",'b','a'])\n",
    "\n",
    "print(report)"
   ]
  },
  {
   "cell_type": "code",
   "execution_count": 19,
   "metadata": {},
   "outputs": [
    {
     "data": {
      "image/png": "[encoded data removed]",
      "text/plain": [
       "<Figure size 640x480 with 2 Axes>"
      ]
     },
     "metadata": {},
     "output_type": "display_data"
    }
   ],
   "source": [
    "import matplotlib.pyplot as plt\n",
    "from sklearn.metrics import ConfusionMatrixDisplay\n",
    "\n",
    "disp = ConfusionMatrixDisplay(confusion_matrix=conf_matrix,\n",
    "                              display_labels=[\"F\", \"D\", \"C\", \"B\", \"A\"])\n",
    "\n",
    "fig, ax = plt.subplots()\n",
    "disp.plot(cmap=plt.cm.Blues, ax=ax) \n",
    "\n",
    "ax.set_title('Random Embeddings')\n",
    "ax.set_xlabel('Predicted Labels')\n",
    "ax.set_ylabel('True Labels')\n",
    "plt.show()"
   ]
  },
  {
   "cell_type": "code",
   "execution_count": 6,
   "metadata": {},
   "outputs": [],
   "source": [
    "\n",
    "def quadratic_weighted_kappa(conf_matrix):\n",
    "\n",
    "    w = np.zeros_like(conf_matrix, dtype=float)\n",
    "\n",
    "    num_categories = conf_matrix.shape[0] \n",
    "\n",
    "    for i in range(num_categories):\n",
    "        for j in range(num_categories):\n",
    "            w[i, j] = ((i - j) / (num_categories - 1)) ** 2\n",
    "\n",
    "\n",
    "    total_observations = conf_matrix.sum()\n",
    "\n",
    "    row_totals = conf_matrix.sum(axis=1)\n",
    "\n",
    "    col_totals = conf_matrix.sum(axis=0)\n",
    "\n",
    "    e = np.zeros_like(conf_matrix, dtype=float)\n",
    "\n",
    "    for i in range(conf_matrix.shape[0]):\n",
    "        for j in range(conf_matrix.shape[1]):\n",
    "            e[i, j] = (row_totals[i] * col_totals[j]) / total_observations\n",
    "\n",
    "\n",
    "    num = 0\n",
    "    den = 0\n",
    "    for i in range(num_categories):\n",
    "        for j in range(num_categories):\n",
    "            num += (w[i,j] * conf_matrix[i,j])\n",
    "            den += (w[i,j] * e[i,j])\n",
    "\n",
    "    return 1 - (num/den)"
   ]
  },
  {
   "cell_type": "code",
   "execution_count": 21,
   "metadata": {},
   "outputs": [
    {
     "data": {
      "text/plain": [
       "0.2608982054803327"
      ]
     },
     "execution_count": 21,
     "metadata": {},
     "output_type": "execute_result"
    }
   ],
   "source": [
    "quadratic_weighted_kappa(conf_matrix)"
   ]
  },
  {
   "cell_type": "code",
   "execution_count": null,
   "metadata": {},
   "outputs": [],
   "source": []
  }
 ],
 "metadata": {
  "kernelspec": {
   "display_name": "Python 3",
   "language": "python",
   "name": "python3"
  },
  "language_info": {
   "codemirror_mode": {
    "name": "ipython",
    "version": 3
   },
   "file_extension": ".py",
   "mimetype": "text/x-python",
   "name": "python",
   "nbconvert_exporter": "python",
   "pygments_lexer": "ipython3",
   "version": "3.10.12"
  }
 },
 "nbformat": 4,
 "nbformat_minor": 2
}
