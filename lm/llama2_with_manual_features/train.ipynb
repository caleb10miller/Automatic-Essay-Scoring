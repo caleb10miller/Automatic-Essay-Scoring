{
 "cells": [
  {
   "cell_type": "code",
   "execution_count": 1,
   "metadata": {},
   "outputs": [],
   "source": [
    "import pandas as pd\n",
    "import torch\n",
    "import torch.nn as nn\n",
    "from torch.utils.data import Dataset\n",
    "import numpy as np\n",
    "\n",
    "\n",
    "from tokenizers import Tokenizer\n",
    "from tokenizers.models import BPE   \n",
    "from tokenizers.trainers import BpeTrainer\n",
    "from tokenizers.pre_tokenizers import Whitespace\n",
    "from tqdm import tqdm\n",
    "\n",
    "import torch\n",
    "import torch.nn as nn\n",
    "from torch.utils.data import DataLoader\n",
    "from torch.optim.lr_scheduler import ReduceLROnPlateau\n",
    "\n",
    "\n",
    "from sklearn.metrics import confusion_matrix\n",
    "\n",
    "from model import ModelArgs, TransformerForSequenceClassification\n",
    "\n",
    "\n",
    "import os\n",
    "\n",
    "device = \"cuda\" if torch.cuda.is_available() else 'cpu'"
   ]
  },
  {
   "cell_type": "code",
   "execution_count": 2,
   "metadata": {},
   "outputs": [],
   "source": [
    "def quadratic_weighted_kappa(conf_matrix):\n",
    "\n",
    "    w = np.zeros_like(conf_matrix, dtype=float)\n",
    "\n",
    "    num_categories = conf_matrix.shape[0] \n",
    "\n",
    "    for i in range(num_categories):\n",
    "        for j in range(num_categories):\n",
    "            w[i, j] = ((i - j) / (num_categories - 1)) ** 2\n",
    "\n",
    "\n",
    "    total_observations = conf_matrix.sum()\n",
    "\n",
    "    row_totals = conf_matrix.sum(axis=1)\n",
    "\n",
    "    col_totals = conf_matrix.sum(axis=0)\n",
    "\n",
    "    e = np.zeros_like(conf_matrix, dtype=float)\n",
    "\n",
    "    for i in range(conf_matrix.shape[0]):\n",
    "        for j in range(conf_matrix.shape[1]):\n",
    "            e[i, j] = (row_totals[i] * col_totals[j]) / total_observations\n",
    "\n",
    "\n",
    "    num = 0\n",
    "    den = 0\n",
    "    for i in range(num_categories):\n",
    "        for j in range(num_categories):\n",
    "            num += (w[i,j] * conf_matrix[i,j])\n",
    "            den += (w[i,j] * e[i,j])\n",
    "\n",
    "    return 1 - (num/den)"
   ]
  },
  {
   "cell_type": "code",
   "execution_count": 3,
   "metadata": {},
   "outputs": [],
   "source": [
    "df = pd.read_csv(\"../data/data_with_scaled_grades.csv\")\n",
    "df = df[[\"essay\", \"scaled_grade\"]]\n",
    "def let_to_num(row):\n",
    "    k = {\"F\": 0, \"D\": 1, \"C\": 2, \"B\": 3, \"A\": 4}\n",
    "    return k[row]\n",
    "\n",
    "\n",
    "df[\"num_grade\"] = df[\"scaled_grade\"].apply(let_to_num)\n",
    "\n",
    "\n",
    "dfl1 = pd.read_csv('../data/lexical_features_5_07.csv')\n",
    "dfl1 = dfl1[['essay_id','num_chars_essay', 'num_puncts_essay', 'num_words_essay',\n",
    "       'num_unique_words_essay', 'num_correct_words', 'num_noun', 'num_adj']]\n",
    "\n",
    "dfl2 = pd.read_csv('../data/lexical_avg_features_5_12.csv')\n",
    "dfl2 = dfl2[['essay_id','avg_num_chars_word',\n",
    "       'avg_num_chars_sent', 'avg_num_puncts_word', 'avg_num_puncts_sent',\n",
    "       'avg_num_words_sent', 'avg_num_unique_words_essay']]\n",
    "\n",
    "dfl = dfl1.join(dfl2,lsuffix='l').drop(columns=['essay_idl'])\n",
    "\n",
    "\n",
    "dfl = (dfl - dfl.mean()) / dfl.std() # normalize\n",
    "\n",
    "df = pd.concat([df,dfl],axis=1)\n",
    "\n",
    "tr = round(len(df) * 0.8)\n",
    "val = round(len(df) * 0.1)\n",
    "\n",
    "df_train = df[0:tr]\n",
    "df_val = df[tr : tr + val]\n",
    "df_test = df[tr + val :]"
   ]
  },
  {
   "cell_type": "code",
   "execution_count": 4,
   "metadata": {},
   "outputs": [],
   "source": [
    "if not os.path.exists('tokenizer.json'):\n",
    "    x = df[\"essay\"]\n",
    "\n",
    "    trainer = BpeTrainer(special_tokens=[\"[UNK]\", \"[CLS]\", \"[SEP]\", \"[PAD]\", \"[MASK]\"],vocab_size=30000)\n",
    "\n",
    "    tokenizer = Tokenizer(BPE(unk_token=\"[UNK]\"))\n",
    "\n",
    "    tokenizer.pre_tokenizer = Whitespace()\n",
    "\n",
    "    tokenizer.train_from_iterator(x, trainer=trainer)\n",
    "\n",
    "\n",
    "    tokenizer.save(\"tokenizer.json\")\n",
    "else:\n",
    "    tokenizer = Tokenizer.from_file('tokenizer.json')\n",
    "    "
   ]
  },
  {
   "cell_type": "code",
   "execution_count": 5,
   "metadata": {},
   "outputs": [],
   "source": [
    "class EssayDataset(Dataset):\n",
    "    def __init__(self, essay_df, tokenizer):\n",
    "\n",
    "        self.row_dicts = []\n",
    "\n",
    "        for i,row in essay_df.iterrows():      \n",
    "            self.row_dicts.append(row.to_dict())\n",
    "\n",
    "        self.tokenizer = tokenizer\n",
    "\n",
    "        \n",
    "\n",
    "    def __len__(self):\n",
    "        return len(self.row_dicts)\n",
    "\n",
    "    def __getitem__(self, index):\n",
    "\n",
    "        row = self.row_dicts[index]\n",
    "\n",
    "        encoded_essay = self.tokenizer.encode(row['essay'])\n",
    "        score = row['num_grade']\n",
    "        num_chars = row['num_chars_essay']\n",
    "        num_puncts = row['num_puncts_essay']\n",
    "        num_words = row['num_words_essay']\n",
    "        num_unique_w = row['num_unique_words_essay']\n",
    "        num_correct = row['num_correct_words']\n",
    "        num_noun = row['num_noun']\n",
    "        num_adj = row['num_adj']\n",
    "\n",
    "        input_ids = torch.tensor(encoded_essay.ids, dtype=torch.long)#.unsqueeze(0)\n",
    "\n",
    "        context = torch.tensor([num_chars,num_puncts,num_words,num_unique_w,num_correct,num_noun,num_adj],dtype=torch.float)\n",
    "\n",
    "    \n",
    "\n",
    "        return {\n",
    "            'ids':input_ids,\n",
    "            'context':context,\n",
    "            'label':torch.tensor([score], dtype=torch.long).squeeze(0),\n",
    "        }\n",
    "\n",
    "    def num_classes(self):\n",
    "        return 5 # this is bad\n",
    " \n",
    "    def __repr__(self) -> str:\n",
    "        return f\"Dataset with {len(self)} essays\"\n",
    "\n",
    "\n",
    "ds_train = EssayDataset(df_train, tokenizer)\n",
    "ds_val = EssayDataset(df_val, tokenizer)"
   ]
  },
  {
   "cell_type": "code",
   "execution_count": 7,
   "metadata": {},
   "outputs": [
    {
     "name": "stdout",
     "output_type": "stream",
     "text": [
      "306,227,717\n"
     ]
    }
   ],
   "source": [
    "config = ModelArgs(\n",
    "   dim=768,\n",
    "   n_layers=40,\n",
    "   n_heads=32,\n",
    "   vocab_size=tokenizer.get_vocab_size(),\n",
    "    n_classes=ds_train.num_classes(),\n",
    "    context_size=len(ds_train[0]['context'])\n",
    ")\n",
    "model = TransformerForSequenceClassification(config)\n",
    "print(f\"{model.params():,}\")\n",
    "\n",
    "\n",
    "#state_dict = torch.load('weights/model_epoch_5.pt')\n",
    "#model.load_state_dict(state_dict)\n",
    "#del state_dict\n",
    "\n",
    "model = model.to(device)\n"
   ]
  },
  {
   "cell_type": "code",
   "execution_count": 8,
   "metadata": {},
   "outputs": [],
   "source": [
    "loss_fn = nn.CrossEntropyLoss()\n",
    "optimizer = torch.optim.Adam(model.parameters(),lr=1e-3)\n",
    "scheduler = ReduceLROnPlateau(optimizer,mode='min',factor=0.1,patience=2)\n",
    "\n",
    "\n",
    "\n",
    "train_dataloader = DataLoader(ds_train, batch_size=1, shuffle=True, drop_last=True)\n",
    "val_dataloader = DataLoader(ds_val, batch_size=1, shuffle=True, drop_last=True)\n"
   ]
  },
  {
   "cell_type": "code",
   "execution_count": 35,
   "metadata": {},
   "outputs": [
    {
     "name": "stderr",
     "output_type": "stream",
     "text": [
      "Processing Epoch 01:   0%|          | 3/10382 [00:00<27:07,  6.38it/s, loss=3.06]\n",
      "Validating Epoch 01:   0%|          | 0/1298 [00:00<?, ?it/s]\n"
     ]
    },
    {
     "name": "stdout",
     "output_type": "stream",
     "text": [
      "Epoch [2/15], Train Loss: 0.0009, Val Loss: 0.0006, Val Accuracy: 0.0000\n",
      "Val QWKS: 0.0\n"
     ]
    },
    {
     "name": "stderr",
     "output_type": "stream",
     "text": [
      "Processing Epoch 02:   0%|          | 3/10382 [00:00<34:55,  4.95it/s, loss=2.2] \n",
      "Validating Epoch 02:   0%|          | 0/1298 [00:00<?, ?it/s]\n"
     ]
    },
    {
     "name": "stdout",
     "output_type": "stream",
     "text": [
      "Epoch [3/15], Train Loss: 0.0006, Val Loss: 0.0004, Val Accuracy: 1.0000\n"
     ]
    },
    {
     "ename": "ZeroDivisionError",
     "evalue": "division by zero",
     "output_type": "error",
     "traceback": [
      "\u001b[0;31m---------------------------------------------------------------------------\u001b[0m",
      "\u001b[0;31mZeroDivisionError\u001b[0m                         Traceback (most recent call last)",
      "Cell \u001b[0;32mIn[35], line 78\u001b[0m\n\u001b[1;32m     73\u001b[0m torch\u001b[38;5;241m.\u001b[39msave(model\u001b[38;5;241m.\u001b[39mstate_dict(), os\u001b[38;5;241m.\u001b[39mpath\u001b[38;5;241m.\u001b[39mjoin(\u001b[38;5;124m'\u001b[39m\u001b[38;5;124mweights\u001b[39m\u001b[38;5;124m'\u001b[39m, \u001b[38;5;124mf\u001b[39m\u001b[38;5;124m'\u001b[39m\u001b[38;5;124mmodel_epoch_\u001b[39m\u001b[38;5;132;01m{\u001b[39;00mepoch\u001b[38;5;241m+\u001b[39m\u001b[38;5;241m1\u001b[39m\u001b[38;5;132;01m}\u001b[39;00m\u001b[38;5;124m.pt\u001b[39m\u001b[38;5;124m'\u001b[39m))\n\u001b[1;32m     75\u001b[0m \u001b[38;5;28mprint\u001b[39m(\n\u001b[1;32m     76\u001b[0m     \u001b[38;5;124mf\u001b[39m\u001b[38;5;124m\"\u001b[39m\u001b[38;5;124mEpoch [\u001b[39m\u001b[38;5;132;01m{\u001b[39;00mepoch\u001b[38;5;241m+\u001b[39m\u001b[38;5;241m1\u001b[39m\u001b[38;5;132;01m}\u001b[39;00m\u001b[38;5;124m/\u001b[39m\u001b[38;5;132;01m{\u001b[39;00mend_epoch\u001b[38;5;132;01m}\u001b[39;00m\u001b[38;5;124m], Train Loss: \u001b[39m\u001b[38;5;132;01m{\u001b[39;00mrunning_loss\u001b[38;5;250m \u001b[39m\u001b[38;5;241m/\u001b[39m\u001b[38;5;250m \u001b[39m\u001b[38;5;28mlen\u001b[39m(train_dataloader)\u001b[38;5;132;01m:\u001b[39;00m\u001b[38;5;124m.4f\u001b[39m\u001b[38;5;132;01m}\u001b[39;00m\u001b[38;5;124m, Val Loss: \u001b[39m\u001b[38;5;132;01m{\u001b[39;00mval_loss\u001b[38;5;132;01m:\u001b[39;00m\u001b[38;5;124m.4f\u001b[39m\u001b[38;5;132;01m}\u001b[39;00m\u001b[38;5;124m, Val Accuracy: \u001b[39m\u001b[38;5;132;01m{\u001b[39;00mval_accuracy\u001b[38;5;132;01m:\u001b[39;00m\u001b[38;5;124m.4f\u001b[39m\u001b[38;5;132;01m}\u001b[39;00m\u001b[38;5;124m\"\u001b[39m\n\u001b[1;32m     77\u001b[0m )\n\u001b[0;32m---> 78\u001b[0m \u001b[38;5;28mprint\u001b[39m(\u001b[38;5;124m'\u001b[39m\u001b[38;5;124mVal QWKS:\u001b[39m\u001b[38;5;124m'\u001b[39m, \u001b[43mquadratic_weighted_kappa\u001b[49m\u001b[43m(\u001b[49m\u001b[43mconfusion_matrix\u001b[49m\u001b[43m(\u001b[49m\u001b[43mlabels_for_cm\u001b[49m\u001b[43m,\u001b[49m\u001b[43mpreds_for_cm\u001b[49m\u001b[43m)\u001b[49m\u001b[43m)\u001b[49m)\n",
      "Cell \u001b[0;32mIn[15], line 9\u001b[0m, in \u001b[0;36mquadratic_weighted_kappa\u001b[0;34m(conf_matrix)\u001b[0m\n\u001b[1;32m      7\u001b[0m \u001b[38;5;28;01mfor\u001b[39;00m i \u001b[38;5;129;01min\u001b[39;00m \u001b[38;5;28mrange\u001b[39m(num_categories):\n\u001b[1;32m      8\u001b[0m     \u001b[38;5;28;01mfor\u001b[39;00m j \u001b[38;5;129;01min\u001b[39;00m \u001b[38;5;28mrange\u001b[39m(num_categories):\n\u001b[0;32m----> 9\u001b[0m         w[i, j] \u001b[38;5;241m=\u001b[39m (\u001b[43m(\u001b[49m\u001b[43mi\u001b[49m\u001b[43m \u001b[49m\u001b[38;5;241;43m-\u001b[39;49m\u001b[43m \u001b[49m\u001b[43mj\u001b[49m\u001b[43m)\u001b[49m\u001b[43m \u001b[49m\u001b[38;5;241;43m/\u001b[39;49m\u001b[43m \u001b[49m\u001b[43m(\u001b[49m\u001b[43mnum_categories\u001b[49m\u001b[43m \u001b[49m\u001b[38;5;241;43m-\u001b[39;49m\u001b[43m \u001b[49m\u001b[38;5;241;43m1\u001b[39;49m\u001b[43m)\u001b[49m) \u001b[38;5;241m*\u001b[39m\u001b[38;5;241m*\u001b[39m \u001b[38;5;241m2\u001b[39m\n\u001b[1;32m     12\u001b[0m total_observations \u001b[38;5;241m=\u001b[39m conf_matrix\u001b[38;5;241m.\u001b[39msum()\n\u001b[1;32m     14\u001b[0m row_totals \u001b[38;5;241m=\u001b[39m conf_matrix\u001b[38;5;241m.\u001b[39msum(axis\u001b[38;5;241m=\u001b[39m\u001b[38;5;241m1\u001b[39m)\n",
      "\u001b[0;31mZeroDivisionError\u001b[0m: division by zero"
     ]
    }
   ],
   "source": [
    "start_epoch = 1\n",
    "end_epoch = 15\n",
    "batch_losses = []\n",
    "val_losses = []\n",
    "val_accuracies = []\n",
    "for epoch in range(start_epoch,end_epoch):\n",
    "    torch.cuda.empty_cache()\n",
    "    model.train()\n",
    "    batch_iterator = tqdm(train_dataloader, desc=f\"Processing Epoch {epoch:02d}\")\n",
    "    running_loss = 0.0\n",
    "    for batch_idx,batch in enumerate(batch_iterator):\n",
    "        tokens = batch['ids'].to(device)\n",
    "        context = batch['context'].to(device)\n",
    "        labels = batch['label'].to(device)\n",
    "        \n",
    "        out = model(tokens,context)\n",
    "        loss = loss_fn(out, labels)\n",
    "\n",
    "        loss.backward()\n",
    "        optimizer.step()\n",
    "        optimizer.zero_grad()\n",
    "\n",
    "        batch_losses.append(running_loss /( 1 if batch_idx == 0 else batch_idx))\n",
    "\n",
    "        running_loss += loss.item()\n",
    "\n",
    "        batch_iterator.set_postfix(loss=running_loss /( 1 if batch_idx == 0 else batch_idx))\n",
    "        \n",
    "       \n",
    "    \n",
    "    model.eval()\n",
    "    val_loss = 0.0\n",
    "    val_correct = 0\n",
    "    val_total = 0\n",
    "    preds_for_cm = []\n",
    "    labels_for_cm = []\n",
    "\n",
    "    with torch.no_grad():\n",
    "        val_iterator = tqdm(val_dataloader,desc=f\"Validating Epoch {epoch:02d}\")\n",
    "        for idx,batch in enumerate(val_iterator):\n",
    "            tokens = batch['ids'].to(device)\n",
    "            context = batch['context'].to(device)\n",
    "            labels = batch['label'].to(device)\n",
    "\n",
    "            out = model(tokens,context)\n",
    "            loss = loss_fn(out,labels)\n",
    "\n",
    "            val_loss += loss.item()\n",
    "\n",
    "            preds = torch.argmax(out, dim=1)\n",
    "            val_correct += (preds == labels).sum().item()\n",
    "            val_total += labels.size(0)\n",
    "\n",
    "            preds = torch.argmax(out, dim=1)\n",
    "            val_correct += (preds == labels).sum().item()\n",
    "            val_total += labels.size(0)\n",
    "\n",
    "            preds_for_cm.append(preds.cpu().numpy())\n",
    "            labels_for_cm.append(labels.cpu().numpy())\n",
    "            \n",
    "\n",
    "            val_losses.append(loss.item())\n",
    "            val_accuracies.append(val_correct / val_total)\n",
    "            \n",
    "\n",
    "    scheduler.step(val_loss)\n",
    "\n",
    "\n",
    "    val_loss /= len(val_dataloader)\n",
    "    val_accuracy = val_correct / val_total\n",
    "\n",
    "    torch.save(model.state_dict(), os.path.join('weights', f'model_epoch_{epoch+1}.pt'))\n",
    "\n",
    "    print(\n",
    "        f\"Epoch [{epoch+1}/{end_epoch}], Train Loss: {running_loss / len(train_dataloader):.4f}, Val Loss: {val_loss:.4f}, Val Accuracy: {val_accuracy:.4f}\"\n",
    "    )\n",
    "    print('Val QWKS:', quadratic_weighted_kappa(confusion_matrix(labels_for_cm,preds_for_cm)))\n",
    "    \n"
   ]
  },
  {
   "cell_type": "code",
   "execution_count": 10,
   "metadata": {},
   "outputs": [],
   "source": [
    "ds_test = EssayDataset(df_test, tokenizer)"
   ]
  },
  {
   "cell_type": "code",
   "execution_count": 11,
   "metadata": {},
   "outputs": [
    {
     "name": "stderr",
     "output_type": "stream",
     "text": [
      "100%|██████████| 1297/1297 [01:03<00:00, 20.48it/s]\n"
     ]
    }
   ],
   "source": [
    "preds = []\n",
    "labels = []\n",
    "with torch.no_grad():\n",
    "   for x in tqdm(ds_test):  # Correct placement of tqdm\n",
    "        tokens = x['ids'].unsqueeze(0).to(device)\n",
    "        context =x['context'].to(device)\n",
    "        label = x['label']\n",
    "\n",
    "        out = model(tokens,context)\n",
    "        pred = torch.argmax(out)\n",
    "\n",
    "        preds.append(pred.cpu())\n",
    "        labels.append(label)\n",
    "\n",
    "\n",
    "preds = torch.stack(preds).cpu().numpy()\n",
    "labels = torch.stack(labels).squeeze().numpy()\n"
   ]
  },
  {
   "cell_type": "code",
   "execution_count": 12,
   "metadata": {},
   "outputs": [],
   "source": [
    "from sklearn.metrics import confusion_matrix\n",
    "conf_matrix = confusion_matrix(labels,preds)"
   ]
  },
  {
   "cell_type": "code",
   "execution_count": 13,
   "metadata": {},
   "outputs": [
    {
     "name": "stdout",
     "output_type": "stream",
     "text": [
      "              precision    recall  f1-score   support\n",
      "\n",
      "           f       0.00      0.00      0.00        53\n",
      "           d       0.42      0.12      0.18       387\n",
      "           c       0.29      0.72      0.41       338\n",
      "           b       0.47      0.34      0.39       398\n",
      "           a       0.15      0.07      0.10       121\n",
      "\n",
      "    accuracy                           0.33      1297\n",
      "   macro avg       0.27      0.25      0.22      1297\n",
      "weighted avg       0.36      0.33      0.29      1297\n",
      "\n"
     ]
    },
    {
     "name": "stderr",
     "output_type": "stream",
     "text": [
      "/home/luke/.local/lib/python3.10/site-packages/sklearn/metrics/_classification.py:1344: UndefinedMetricWarning: Precision and F-score are ill-defined and being set to 0.0 in labels with no predicted samples. Use `zero_division` parameter to control this behavior.\n",
      "  _warn_prf(average, modifier, msg_start, len(result))\n",
      "/home/luke/.local/lib/python3.10/site-packages/sklearn/metrics/_classification.py:1344: UndefinedMetricWarning: Precision and F-score are ill-defined and being set to 0.0 in labels with no predicted samples. Use `zero_division` parameter to control this behavior.\n",
      "  _warn_prf(average, modifier, msg_start, len(result))\n",
      "/home/luke/.local/lib/python3.10/site-packages/sklearn/metrics/_classification.py:1344: UndefinedMetricWarning: Precision and F-score are ill-defined and being set to 0.0 in labels with no predicted samples. Use `zero_division` parameter to control this behavior.\n",
      "  _warn_prf(average, modifier, msg_start, len(result))\n"
     ]
    }
   ],
   "source": [
    "from sklearn.metrics import classification_report\n",
    "report = classification_report(labels, preds, target_names=[\"f\",\"d\",\"c\",'b','a'])\n",
    "\n",
    "print(report)"
   ]
  },
  {
   "cell_type": "code",
   "execution_count": 16,
   "metadata": {},
   "outputs": [
    {
     "data": {
      "image/png": "[encoded data removed]",
      "text/plain": [
       "<Figure size 640x480 with 2 Axes>"
      ]
     },
     "metadata": {},
     "output_type": "display_data"
    }
   ],
   "source": [
    "import matplotlib.pyplot as plt\n",
    "from sklearn.metrics import ConfusionMatrixDisplay\n",
    "\n",
    "disp = ConfusionMatrixDisplay(confusion_matrix=conf_matrix,\n",
    "                              display_labels=[\"F\", \"D\", \"C\", \"B\", \"A\"])\n",
    "\n",
    "fig, ax = plt.subplots()\n",
    "disp.plot(cmap=plt.cm.Blues, ax=ax) \n",
    "\n",
    "ax.set_title('With context: 1 epoch')\n",
    "ax.set_xlabel('Predicted Labels')\n",
    "ax.set_ylabel('True Labels')\n",
    "plt.show()"
   ]
  },
  {
   "cell_type": "code",
   "execution_count": 15,
   "metadata": {},
   "outputs": [
    {
     "data": {
      "text/plain": [
       "0.26014558350088846"
      ]
     },
     "execution_count": 15,
     "metadata": {},
     "output_type": "execute_result"
    }
   ],
   "source": [
    "def quadratic_weighted_kappa(conf_matrix):\n",
    "\n",
    "    w = np.zeros_like(conf_matrix, dtype=float)\n",
    "\n",
    "    num_categories = conf_matrix.shape[0] \n",
    "\n",
    "    for i in range(num_categories):\n",
    "        for j in range(num_categories):\n",
    "            w[i, j] = ((i - j) / (num_categories - 1)) ** 2\n",
    "\n",
    "\n",
    "    total_observations = conf_matrix.sum()\n",
    "\n",
    "    row_totals = conf_matrix.sum(axis=1)\n",
    "\n",
    "    col_totals = conf_matrix.sum(axis=0)\n",
    "\n",
    "    e = np.zeros_like(conf_matrix, dtype=float)\n",
    "\n",
    "    for i in range(conf_matrix.shape[0]):\n",
    "        for j in range(conf_matrix.shape[1]):\n",
    "            e[i, j] = (row_totals[i] * col_totals[j]) / total_observations\n",
    "\n",
    "\n",
    "    num = 0\n",
    "    den = 0\n",
    "    for i in range(num_categories):\n",
    "        for j in range(num_categories):\n",
    "            num += (w[i,j] * conf_matrix[i,j])\n",
    "            den += (w[i,j] * e[i,j])\n",
    "\n",
    "    return 1 - (num/den)\n",
    "\n",
    "quadratic_weighted_kappa(conf_matrix)"
   ]
  },
  {
   "cell_type": "code",
   "execution_count": null,
   "metadata": {},
   "outputs": [],
   "source": []
  },
  {
   "cell_type": "code",
   "execution_count": null,
   "metadata": {},
   "outputs": [],
   "source": []
  }
 ],
 "metadata": {
  "kernelspec": {
   "display_name": "Python 3",
   "language": "python",
   "name": "python3"
  },
  "language_info": {
   "codemirror_mode": {
    "name": "ipython",
    "version": 3
   },
   "file_extension": ".py",
   "mimetype": "text/x-python",
   "name": "python",
   "nbconvert_exporter": "python",
   "pygments_lexer": "ipython3",
   "version": "3.10.12"
  }
 },
 "nbformat": 4,
 "nbformat_minor": 2
}
